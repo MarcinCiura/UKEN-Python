{
 "cells": [
  {
   "cell_type": "markdown",
   "id": "lqUqootbp0bU",
   "metadata": {
    "id": "lqUqootbp0bU"
   },
   "source": [
    "**UWAGA** Proszę nic nie zmieniać w tym pliku tylko:\n",
    "\n",
    "- wybrać opcję Plik->Zapisz kopię na Dysku\n",
    "- w tej zakładce przeglądarki, która wyświetli kopię tego pliku (`Kopia notatnika lab3.ipynb`), wybrać opcję Plik->Zmień nazwę\n",
    "- zmienić nazwę kopii pliku na `Imię-Nazwisko-lab3.ipynb`, gdzie `Imię` i `Nazwisko` to Twoje imię i nazwisko\n",
    "\n",
    "Potem proszę śmiało edytować swoją kopię :-)\n",
    "\n",
    "Kiedy skończysz, **koniecznie** wybierz opcję Plik->Zapisz, zamknij okno przeglądarki, wyłącz komputer i wyjdź z zajęć :-)"
   ]
  },
  {
   "cell_type": "markdown",
   "id": "arBsRnz4qcOk",
   "metadata": {
    "id": "arBsRnz4qcOk"
   },
   "source": [
    "To jest pierwsza komórka. Ta komórka zawiera tekst. Są też komórki, które zawierają kod programów.\n",
    "\n",
    "Żeby wykonać zawartość każdej komórki, proszę naciskać kombinację klawiszy `Shift+Enter`"
   ]
  },
  {
   "cell_type": "markdown",
   "id": "58e45f57-9b38-4138-b160-78aaacb431fa",
   "metadata": {
    "id": "58e45f57-9b38-4138-b160-78aaacb431fa"
   },
   "source": [
    "## Zadania na czwórkę"
   ]
  },
  {
   "cell_type": "markdown",
   "id": "b78e0d70-a418-49ec-9452-03deaeb70e51",
   "metadata": {
    "id": "b78e0d70-a418-49ec-9452-03deaeb70e51"
   },
   "source": [
    "**Zadanie 1**. Proszę spowodować wypisanie takiego wzorka: `\\/\\/\\/\\/\\/\\/\\/\\/\\/\\/`\n",
    "(dziesięć powtórzeń dwóch znaków: `\\/`). Proszę skorzystać z mnożenia łańcucha przez liczbę.\n",
    "Proszę pamiętać, że wewnątrz stałych łańcuchów należy podwoić znak odwrotnego ukośnika: `\\\\`."
   ]
  },
  {
   "cell_type": "code",
   "execution_count": null,
   "id": "8775a862-42ba-4b6d-adce-92427a0d6505",
   "metadata": {
    "id": "8775a862-42ba-4b6d-adce-92427a0d6505"
   },
   "outputs": [],
   "source": []
  },
  {
   "cell_type": "markdown",
   "id": "3e61c78b-a987-4065-8392-d675cefae790",
   "metadata": {
    "id": "3e61c78b-a987-4065-8392-d675cefae790"
   },
   "source": [
    "**Zadanie 2**. Proszę przypisać swoje imię do zmiennej `imię`. Proszę spowodować wypisanie wartości zmiennej `imię` wyrównanej do środka pola o szerokości 20 znaków. Proszę wypełnić pole znakami kropki `.` z lewej i z prawej strony. Przykład: `.......Marcin.......`."
   ]
  },
  {
   "cell_type": "code",
   "execution_count": null,
   "id": "4ce4632c-9731-4953-aad7-f70bb574b457",
   "metadata": {
    "id": "4ce4632c-9731-4953-aad7-f70bb574b457"
   },
   "outputs": [],
   "source": []
  },
  {
   "cell_type": "markdown",
   "id": "163ed92b-7c90-499e-a5f0-2d9f00473596",
   "metadata": {
    "id": "163ed92b-7c90-499e-a5f0-2d9f00473596"
   },
   "source": [
    "**Zadanie 3**. Proszę napisać funkcję `jakie_to_imię(imię: str)`, która wypisuje to, czy jej argument `imię` jest imieniem męskim, czy żeńskim. Proszę zastosować uproszczony algorytm: jeśli `imię` kończy się na `a` i nie jest równe łańcuchowi `Kuba` i nie jest równe łańcuchowi `Barnaba`, wypisz łańcuch `'Imię żeńskie'`. W przeciwnym przypadku wypisz łańcuch `'Imię męskie'`."
   ]
  },
  {
   "cell_type": "code",
   "execution_count": null,
   "id": "154ea5b8-fb80-4a49-948d-c08fea0e2ad3",
   "metadata": {
    "id": "154ea5b8-fb80-4a49-948d-c08fea0e2ad3"
   },
   "outputs": [],
   "source": [
    "def jakie_to_imię(imię: str):\n",
    "    \"\"\"Określa, czy |imię| jest imieniem męskim, czy żeńskim\"\"\"\n"
   ]
  },
  {
   "cell_type": "code",
   "execution_count": null,
   "id": "040f91cf-22ed-46ba-a55d-f7648625f4e6",
   "metadata": {
    "id": "040f91cf-22ed-46ba-a55d-f7648625f4e6"
   },
   "outputs": [],
   "source": [
    "jakie_to_imię('Anna')"
   ]
  },
  {
   "cell_type": "code",
   "execution_count": null,
   "id": "a8e96516-01cc-4094-81c9-b2c5476a31c9",
   "metadata": {
    "id": "a8e96516-01cc-4094-81c9-b2c5476a31c9"
   },
   "outputs": [],
   "source": [
    "jakie_to_imię('Jan')"
   ]
  },
  {
   "cell_type": "code",
   "execution_count": null,
   "id": "1b176b0a-83b6-4347-b67b-5213dd7993b9",
   "metadata": {
    "id": "1b176b0a-83b6-4347-b67b-5213dd7993b9"
   },
   "outputs": [],
   "source": [
    "jakie_to_imię('Kuba')"
   ]
  },
  {
   "cell_type": "markdown",
   "id": "6a940c9b-7898-4803-b26d-96afb4b83509",
   "metadata": {
    "id": "6a940c9b-7898-4803-b26d-96afb4b83509"
   },
   "source": [
    "**Zadanie 4**. Proszę napisać funkcję `wypisz_w_tabeli(liczby: list)`, która wypisuje jedna pod drugą\n",
    "kolejne liczby rzeczywiste z listy `liczby`. Proszę wypisać każdą liczbę w polu o szerokości 10 znaków,\n",
    "z 2 cyframi po kropce dziesiętnej. Przykład:\n",
    "```\n",
    "wypisz_w_tabeli([2.5, 3.1415, 17.666])\n",
    "      2.50\n",
    "      3.14\n",
    "     17.67\n",
    "```"
   ]
  },
  {
   "cell_type": "code",
   "execution_count": null,
   "id": "43af2adb-cae8-4206-bd35-d8431a99f38d",
   "metadata": {
    "id": "43af2adb-cae8-4206-bd35-d8431a99f38d"
   },
   "outputs": [],
   "source": [
    "def wypisz_w_tabeli(liczby: list):\n",
    "    \"\"\"Wypisuje jedna pod drugą liczby rzeczywiste z listy |liczby|\"\"\"\n"
   ]
  },
  {
   "cell_type": "code",
   "execution_count": null,
   "id": "3260f158-fde3-45d3-955f-3659671271ac",
   "metadata": {
    "id": "3260f158-fde3-45d3-955f-3659671271ac"
   },
   "outputs": [],
   "source": [
    "wypisz_w_tabeli([2.5, 3.1415, -17.666])"
   ]
  },
  {
   "cell_type": "markdown",
   "id": "a5905710-7293-40f3-8758-6abca04d01d6",
   "metadata": {
    "id": "a5905710-7293-40f3-8758-6abca04d01d6"
   },
   "source": [
    "**W zadaniach 6–11 krok po kroku budujemy program tłumaczący proste zdania z polskiego na czeski.**\n",
    "\n",
    "Po każdym z tych zadań są testy, które zaczynają się od słowa kluczowego `assert` (tutaj \"assert\" znaczy \"potwierdź, że\"). Są to tak zwane asercje.\n",
    "\n",
    "Gdy wyrażenie logiczne po słowie kluczowym `assert` jest nieprawdziwe, powstaje wyjątek typu `AssertionError`.\n",
    "\n",
    "Gdy wyrażenie logiczne po słowie kluczowym `assert` jest prawdziwe, asercja wykonuje się, nic nie wypisując na ekranie. Jak mawiają Anglosasi: **no news is good news** :-)"
   ]
  },
  {
   "cell_type": "markdown",
   "id": "1ab144c4-12f6-4625-85e4-35c9a80ef3ce",
   "metadata": {
    "id": "1ab144c4-12f6-4625-85e4-35c9a80ef3ce"
   },
   "source": [
    "**Zadanie 6**. Napisz funkcję `biernik_lp_ż_przymiotnika_pl(przymiotnik: str) -> str`,\n",
    "która zwraca biernik liczby pojedynczej rodzaju żeńskiego przymiotnika w języku polskim. Przykład:\n",
    "```\n",
    "print(biernik_lp_ż_przymiotnika_pl('czarna'))\n",
    "czarną\n",
    "```\n",
    "Proszę do przymiotnika bez ostatniej litery dokleić literę `ą`."
   ]
  },
  {
   "cell_type": "code",
   "execution_count": null,
   "id": "a5444449-8b47-4488-a7a0-8b8e5544c5d1",
   "metadata": {
    "id": "a5444449-8b47-4488-a7a0-8b8e5544c5d1"
   },
   "outputs": [],
   "source": [
    "def biernik_lp_ż_przymiotnika_pl(przymiotnik: str) -> str:\n",
    "    \"\"\"Zwraca biernik l. pojedynczej r. żeńskiego przymiotnika polskiego\"\"\""
   ]
  },
  {
   "cell_type": "code",
   "execution_count": null,
   "id": "c575aab0-2b99-4b4e-a2c5-b63d118eed08",
   "metadata": {
    "id": "c575aab0-2b99-4b4e-a2c5-b63d118eed08"
   },
   "outputs": [],
   "source": [
    "assert biernik_lp_ż_przymiotnika_pl('pomarańczowa') == 'pomarańczową'"
   ]
  },
  {
   "cell_type": "markdown",
   "id": "6e1e3ecd-b91b-4d8f-9302-b7fa742596e7",
   "metadata": {
    "id": "6e1e3ecd-b91b-4d8f-9302-b7fa742596e7"
   },
   "source": [
    "**Zadanie 7**. Napisz funkcję `biernik_lp_ż_rzeczownika_pl(rzeczownik: str) -> str`,\n",
    "która zwraca biernik liczby pojedynczej polskiego rzeczownika rodzaju żeńskiego zakończonego literą `a`.\n",
    "Przykład:\n",
    "```\n",
    "print(biernik_lp_ż_rzeczownika_pl('głowa'))\n",
    "głowę\n",
    "```\n",
    "Proszę do rzeczownika bez ostatniej litery dokleić literę `ę`."
   ]
  },
  {
   "cell_type": "code",
   "execution_count": null,
   "id": "b9e83936-9c70-44ee-9fa3-8befe9a59b84",
   "metadata": {
    "id": "b9e83936-9c70-44ee-9fa3-8befe9a59b84"
   },
   "outputs": [],
   "source": [
    "def biernik_lp_ż_rzeczownika_pl(rzeczownik: str) -> str:\n",
    "    \"\"\"Zwraca biernik l. pojedynczej polskiego rzeczownika r. żeńskiego\"\"\""
   ]
  },
  {
   "cell_type": "code",
   "execution_count": null,
   "id": "d6b42118-8c42-46b4-83cc-072fe0e81ef9",
   "metadata": {
    "id": "d6b42118-8c42-46b4-83cc-072fe0e81ef9"
   },
   "outputs": [],
   "source": [
    "assert biernik_lp_ż_rzeczownika_pl('ręka') == 'rękę'"
   ]
  },
  {
   "cell_type": "markdown",
   "id": "a36497eb-f5f4-4961-a59d-bb7b1052dcdc",
   "metadata": {
    "id": "a36497eb-f5f4-4961-a59d-bb7b1052dcdc"
   },
   "source": [
    "**Zadanie 8**. Proszę napisać funkcję `biernik_lp_ż_przymiotnika_cz(przymiotnik: str) -> str`,\n",
    "która zwraca biernik liczby pojedynczej czeskiego przymiotnika rodzaju żeńskiego. Przykład:\n",
    "```\n",
    "print(biernik_lp_ż_przymiotnika_cz('černá'))\n",
    "černou\n",
    "```\n",
    "Proszę do przymiotnika bez ostatniej litery dokleić litery `ou`."
   ]
  },
  {
   "cell_type": "code",
   "execution_count": null,
   "id": "d80bce96-1c64-4b5e-a0bf-aca6e90ac130",
   "metadata": {
    "id": "d80bce96-1c64-4b5e-a0bf-aca6e90ac130"
   },
   "outputs": [],
   "source": [
    "def biernik_lp_ż_przymiotnika_cz(przymiotnik: str) -> str:\n",
    "    \"\"\"Zwraca biernik l. pojedynczej r. żeńskiego przymiotnika czeskiego\"\"\""
   ]
  },
  {
   "cell_type": "code",
   "execution_count": null,
   "id": "5437aafa-b6c8-41f3-938c-3f7f1a67ce5b",
   "metadata": {
    "id": "5437aafa-b6c8-41f3-938c-3f7f1a67ce5b"
   },
   "outputs": [],
   "source": [
    "assert biernik_lp_ż_przymiotnika_cz('oranžová') == 'oranžovou'"
   ]
  },
  {
   "cell_type": "markdown",
   "id": "4f19579c-998c-48a2-913f-35eb4da1b93c",
   "metadata": {
    "id": "4f19579c-998c-48a2-913f-35eb4da1b93c"
   },
   "source": [
    "**Zadanie 9**. Proszę napisać funkcję `biernik_lp_ż_rzeczownika_cz(rzeczownik: str) -> str`,\n",
    "która zwraca biernik liczby pojedynczej czeskiego rzeczownika rodzaju żeńskiego zakończonego literą `a`.\n",
    "Przykład:\n",
    "```\n",
    "print(biernik_lp_ż_rzeczownika_cz('hlava'))\n",
    "hlavu\n",
    "```\n",
    "Proszę do rzeczownika bez ostatniej litery dokleić literę `u`."
   ]
  },
  {
   "cell_type": "code",
   "execution_count": null,
   "id": "d2e5ff45-7b08-4d48-b71a-28c261b24109",
   "metadata": {
    "id": "d2e5ff45-7b08-4d48-b71a-28c261b24109"
   },
   "outputs": [],
   "source": [
    "def biernik_lp_ż_rzeczownika_cz(rzeczownik: str) -> str:\n",
    "    \"\"\"Zwraca biernik l. pojedynczej czeskiego rzeczownika r. żeńskiego\"\"\""
   ]
  },
  {
   "cell_type": "code",
   "execution_count": null,
   "id": "f5ecd710-5817-4597-a875-1e794f1577f7",
   "metadata": {
    "id": "f5ecd710-5817-4597-a875-1e794f1577f7"
   },
   "outputs": [],
   "source": [
    "assert biernik_lp_ż_rzeczownika_cz('ruka') == 'ruku'"
   ]
  },
  {
   "cell_type": "markdown",
   "id": "36055a9c-9622-4d49-8740-1007db950202",
   "metadata": {
    "id": "36055a9c-9622-4d49-8740-1007db950202"
   },
   "source": [
    "**Zadanie 10**. Dany jest słownik `słownik_pl_cz`, który zawiera czeskie tłumaczenia\n",
    "kilku polskich czasowników i polskiego spójnika \"i\". Dane są dwie listy łańcuchów: `przymiotniki_pl_cz` i `rzeczowniki_pl_cz`. Każdy łańcuch tych list zawiera wyraz polski w mianowniku liczby pojedynczej rodzaju żeńskiego i odpowiadający mu wyraz czeski, oddzielone znakiem spacji.\n",
    "\n",
    "Proszę napisać funkcję `uzupełnij_słownik_pl_cz`, która dodaje do słownika `słownik_pl_cz`:\n",
    "- mianowniki przymiotników polskich i odpowiadające im mianowniki przymiotników czeskich\n",
    "- bierniki przymiotników polskich i odpowiadające im bierniki przymiotników czeskich\n",
    "- mianowniki rzeczowników polskich i odpowiadające im mianowniki rzeczowników czeskich\n",
    "- bierniki rzeczowników polskich i odpowiadające im bierniki rzeczowników czeskich.\n",
    "\n",
    "Proszę w kodzie funkcji `uzupełnij_słownik_pl_cz`:\n",
    "\n",
    "- dla każdego łańcucha `linia` należącego do listy `przymiotniki_pl_cz`:\n",
    "\n",
    "    - podzielić łańcuch `linia` na części tam, gdzie są w nim białe znaki i przypisać otrzymane dwie części, czyli formy mianownika, do dwóch zmiennych: `pl` i `cz`\n",
    "    - dodać do słownika `słownik_pl_cz` pod kluczem `pl` wartość `cz`\n",
    "    - dodać do słownika `słownik_pl_cz` pod kluczem będącym formą biernika wyrazu `pl` wartość będącą formą biernika wyrazu `cz`, korzystając ze zdefiniowanych powyżej funkcji `biernik_lp_ż_przymiotnika_pl` i `biernik_lp_ż_przymiotnika_cz`\n",
    "\n",
    "- dla każdego łańcucha `linia` należącego do listy `rzeczowniki_pl_cz` postąpić podobnie jak wyżej, pamiętając o tym, że formy biernika rzeczowniów uzyskujemy, wywołując funkcje `biernik_lp_ż_rzeczownika_pl` i `biernika_lp_ż_przymiotnika_pl`"
   ]
  },
  {
   "cell_type": "code",
   "execution_count": null,
   "id": "d5eb7f7b-ae5c-40e7-93af-78cdc408f703",
   "metadata": {
    "id": "d5eb7f7b-ae5c-40e7-93af-78cdc408f703"
   },
   "outputs": [],
   "source": [
    "słownik_pl_cz = {\n",
    "    'i': 'a',\n",
    "    'kupuję': 'kupuju', 'kupujesz': 'kupuješ', 'kupuje': 'kupuje',\n",
    "    'mam': 'mám', 'masz': 'máš', 'ma': 'má',\n",
    "    'niosę': 'nesu', 'niesiesz': 'neseš', 'niesie': 'nese',\n",
    "    'rozumiem': 'rozumím', 'rozumiesz': 'rozumíš', 'rozumie': 'rozumí',\n",
    "    'sprzedaję': 'prodávám', 'sprzedajesz': 'prodáváš', 'sprzedaje': 'prodává',\n",
    "    'wiozę': 'vezu', 'wieziesz': 'vezeš', 'wiezie': 'veze',\n",
    "}\n",
    "przymiotniki_pl_cz = [\n",
    "    'biała bílá',\n",
    "    'czarna černá',\n",
    "    'czerwona červená',\n",
    "    'fioletowa fialová',\n",
    "    'niebieska modrá',\n",
    "    'pomarańczowa oranžová',\n",
    "    'zielona zelená',\n",
    "    'żółta žlutá',\n",
    "]\n",
    "rzeczowniki_pl_cz = [\n",
    "    'czapka čapka',\n",
    "    'głowa hlava',\n",
    "    'gruszka hruška',\n",
    "    'malina malina',\n",
    "    'noga noha',\n",
    "    'pizza pizza',\n",
    "    'ręka ruka',\n",
    "    'skarpetka ponožka',\n",
    "]\n",
    "\n",
    "def uzupełnij_słownik_pl_cz():\n",
    "    \"\"\"Dodaje do |słownik_pl_cz| polskie wyrazy jako klucze, a czeskie jako wartości\"\"\""
   ]
  },
  {
   "cell_type": "code",
   "execution_count": null,
   "id": "c5c26568-d5b7-4e0d-bd27-499e5b34b99e",
   "metadata": {
    "id": "c5c26568-d5b7-4e0d-bd27-499e5b34b99e"
   },
   "outputs": [],
   "source": [
    "uzupełnij_słownik_pl_cz()\n",
    "\n",
    "assert słownik_pl_cz['niesie'] == 'nese'\n",
    "assert słownik_pl_cz['fioletowa'] == 'fialová'\n",
    "assert słownik_pl_cz['fioletową'] == 'fialovou'\n",
    "assert słownik_pl_cz['noga'] == 'noha'\n",
    "assert słownik_pl_cz['nogę'] == 'nohu'\n",
    "assert 'fioletowę' not in słownik_pl_cz\n",
    "assert 'nogą' not in słownik_pl_cz"
   ]
  },
  {
   "cell_type": "markdown",
   "id": "fc7e7ff6-4900-4050-a76f-cbcaf8b8ec5b",
   "metadata": {
    "id": "fc7e7ff6-4900-4050-a76f-cbcaf8b8ec5b"
   },
   "source": [
    "**Zadanie 11**. Proszę napisać funkcję `przetłumacz_pl_cz(zdanie: str) -> str`, która zwraca tłumaczenie zdania na czeski. Przykład:\n",
    "```\n",
    "print(przetłumacz_pl_cz('czerwona malina sprzedaje żółtą i niebieską głowę'))\n",
    "červená malina prodává žlutou a modrou hlavu\n",
    "```\n",
    "Proszę w kodzie funkcji `przetłumacz_pl_cz`:\n",
    "* zamienić w łańcuchu `zdanie` duże litery na na małe litery i przypisać otrzymany łańcuch znowu do zmiennej `zdanie`\n",
    "* podzielić łańcuch `zdanie` na części oddzielone od siebie białymi znakami i przypisać otrzymaną listę łańcuchów do zmiennej `wyrazy_pl`\n",
    "* przypisać do zmiennej `wyrazy_cz` pustą listę\n",
    "* dla każdego wyrazu `wyraz` należącego do listy `wyrazy_pl`:\n",
    "    - jeśli `wyraz` należy do słownika `słownik_pl_cz`, dodać na koniec listy `wyrazy_cz` tę wartość ze słownika `słownik_pl_cz`, która odpowiada kluczowi `wyraz`\n",
    "    - jeśli `wyraz` nie należy do słownika `słownik_pl_cz`, dodać `wyraz` na koniec listy `wyrazy_cz`\n",
    "* zwrócić z funkcji `przetłumacz_pl_cz` łańcuchy z listy `wyrazy_cz`, połączone znakami spacji"
   ]
  },
  {
   "cell_type": "code",
   "execution_count": null,
   "id": "7f651d00-c461-4227-895d-21351e1cbf77",
   "metadata": {
    "id": "7f651d00-c461-4227-895d-21351e1cbf77"
   },
   "outputs": [],
   "source": [
    "def przetłumacz_pl_cz(zdanie: str) -> str:\n",
    "    \"\"\"Tłumaczy |zdanie| z polskiego na czeski\"\"\""
   ]
  },
  {
   "cell_type": "code",
   "execution_count": null,
   "id": "79da39cf-6087-4d0c-8b1d-9391e790a2b3",
   "metadata": {
    "id": "79da39cf-6087-4d0c-8b1d-9391e790a2b3"
   },
   "outputs": [],
   "source": [
    "assert (przetłumacz_pl_cz('czarna gruszka rozumie pomarańczową pizzę') ==\n",
    "        'černá hruška rozumí oranžovou pizzu')\n",
    "assert przetłumacz_pl_cz('aksolotl niesie czapkę') == 'aksolotl nese čapku'"
   ]
  },
  {
   "cell_type": "markdown",
   "id": "4bc04bfb-9036-48a9-883d-91c65b7ef720",
   "metadata": {
    "id": "4bc04bfb-9036-48a9-883d-91c65b7ef720"
   },
   "source": [
    "**Nie zapomnij zapisać tego pliku zanim zamkniesz kartę przeglądarki :-)**\n",
    "\n",
    "**Poniżej możesz korzystać z programu, który napisaliśmy:**\n",
    "\n",
    "---\n",
    "\n"
   ]
  },
  {
   "cell_type": "code",
   "execution_count": null,
   "id": "3ef8c4c5-4911-4f14-a98a-7ea6bc6ceb1a",
   "metadata": {
    "id": "3ef8c4c5-4911-4f14-a98a-7ea6bc6ceb1a"
   },
   "outputs": [],
   "source": [
    "while True:\n",
    "    zdanie_pl = input('> ')\n",
    "    if not zdanie_pl:\n",
    "        break\n",
    "    zdanie_cz = przetłumacz_pl_cz(zdanie_pl)\n",
    "    print(zdanie_cz)"
   ]
  },
  {
   "cell_type": "markdown",
   "id": "edb65a6f-d0b2-436d-a21e-348eab4291d4",
   "metadata": {
    "id": "edb65a6f-d0b2-436d-a21e-348eab4291d4"
   },
   "source": [
    "## Zadania na piątkę"
   ]
  },
  {
   "cell_type": "markdown",
   "id": "271cecb3-093e-4e1f-856c-57c594365d4a",
   "metadata": {
    "id": "271cecb3-093e-4e1f-856c-57c594365d4a"
   },
   "source": [
    "**Zadanie 12**. Pliki `wyrazy.txt`, `czasowniki.txt`, `rzeczowniki.txt` i `przymiotniki.txt` zawierają odpowiednio:\n",
    "- przydatne wyrazy, na przykład:\n",
    "```\n",
    "a a\n",
    "...\n",
    "zrazu nejprve\n",
    "```\n",
    "- formy czasowników, na przykład:\n",
    "```\n",
    "akceptuję akceptuji\n",
    "...\n",
    "żywi živí\n",
    "```\n",
    "- formy mianownika liczby pojedynczej takich rzeczowników rodzaju żeńskiego, które kończą się literą `a`, a ich czeskie odpowiedniki też są rodzaju żeńskiego i też kończą się literą `a`, na przykład:\n",
    "```\n",
    "administracja administrativa\n",
    "...\n",
    "żyłka žilka\n",
    "```\n",
    "- formy mianownika liczby pojedynczej rodzaju żeńskiego przymiotników, na przykład:\n",
    "```\n",
    "aksamitna sametová\n",
    "...\n",
    "żylasta žilnatá\n",
    "```\n",
    "Każda linia każdego z tych plików zawiera wyraz polski i wyraz czeski oddzielone znakiem spacji.\n",
    "\n",
    "Proszę napisać funkcję `uzupełnij_słownik_pl_cz_z_plików`, która dodaje do słownika `słownik_pl_cz` polskie wyrazy jako klucze, a czeskie wyrazy jako wartości. Funkcja `uzupełnij_słownik_pl_cz_z_plików` powinna dodawać do słownika wyrazy z plików `wyrazy.txt` i `czasowniki.txt` oraz formy mianownika i biernika liczby pojedynczej wyrazów z plików `rzeczowniki.txt` i `przymiotniki.txt`."
   ]
  },
  {
   "cell_type": "code",
   "execution_count": null,
   "id": "f1a5bbe0-1fdb-4abc-b816-fb020acf6494",
   "metadata": {
    "id": "f1a5bbe0-1fdb-4abc-b816-fb020acf6494"
   },
   "outputs": [],
   "source": [
    "def uzupełnij_słownik_pl_cz_z_plików():\n",
    "    \"\"\"Dodaje do |słownik_pl_cz| polskie wyrazy jako klucze, a czeskie jako wartości\"\"\""
   ]
  },
  {
   "cell_type": "code",
   "execution_count": null,
   "id": "1a655499-8a6c-441e-accc-5096b3bb9fec",
   "metadata": {
    "id": "1a655499-8a6c-441e-accc-5096b3bb9fec"
   },
   "outputs": [],
   "source": [
    "słownik_pl_cz = {}\n",
    "uzupełnij_słownik_pl_cz_z_plików()"
   ]
  },
  {
   "cell_type": "code",
   "execution_count": null,
   "id": "ccc77f03-d315-4327-a47f-568682a645c6",
   "metadata": {
    "id": "ccc77f03-d315-4327-a47f-568682a645c6"
   },
   "outputs": [],
   "source": [
    "assert słownik_pl_cz['dlatego'] == 'proto'\n",
    "assert słownik_pl_cz['chwytam'] == 'chytám'\n",
    "assert słownik_pl_cz['deska'] == 'deska'\n",
    "assert słownik_pl_cz['deskę'] == 'desku'\n",
    "assert 'deską' not in słownik_pl_cz\n",
    "assert słownik_pl_cz['długa'] == 'dlouhá'\n",
    "assert słownik_pl_cz['długą'] == 'dlouhou'\n",
    "assert 'długę' not in słownik_pl_cz"
   ]
  },
  {
   "cell_type": "markdown",
   "id": "31197605-35b1-4869-9565-7afe6e2b2fdf",
   "metadata": {
    "id": "31197605-35b1-4869-9565-7afe6e2b2fdf"
   },
   "source": [
    "**Nie zapomnij zapisać tego pliku zanim zamkniesz kartę przeglądarki :-)**\n",
    "\n",
    "**Poniżej możesz korzystać z programu, który napisaliśmy:**\n",
    "\n",
    "\n"
   ]
  },
  {
   "cell_type": "code",
   "execution_count": null,
   "id": "94986291-81b8-46fc-a7ba-12696ace9495",
   "metadata": {
    "id": "94986291-81b8-46fc-a7ba-12696ace9495"
   },
   "outputs": [],
   "source": [
    "while True:\n",
    "    zdanie_pl = input('> ')\n",
    "    if not zdanie_pl:\n",
    "        break\n",
    "    zdanie_cz = przetłumacz_pl_cz(zdanie_pl)\n",
    "    print(zdanie_cz)"
   ]
  }
 ],
 "metadata": {
  "colab": {
   "generative_ai_disabled": true,
   "provenance": []
  },
  "kernelspec": {
   "display_name": "Python 3 (ipykernel)",
   "language": "python",
   "name": "python3"
  },
  "language_info": {
   "codemirror_mode": {
    "name": "ipython",
    "version": 3
   },
   "file_extension": ".py",
   "mimetype": "text/x-python",
   "name": "python",
   "nbconvert_exporter": "python",
   "pygments_lexer": "ipython3",
   "version": "3.13.7"
  }
 },
 "nbformat": 4,
 "nbformat_minor": 5
}
