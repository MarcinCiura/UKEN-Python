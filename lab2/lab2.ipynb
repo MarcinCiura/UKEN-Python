{
 "cells": [
  {
   "cell_type": "markdown",
   "id": "3DxcMtENBszw",
   "metadata": {
    "id": "3DxcMtENBszw"
   },
   "source": [
    "**UWAGA** Proszę nic nie zmieniać w tym pliku tylko:\n",
    "\n",
    "- wybrać opcję Plik->Zapisz kopię na Dysku\n",
    "- w tej zakładce przeglądarki, która wyświetli kopię tego pliku (`Kopia notatnika lab2.ipynb`), wybrać opcję Plik->Zmień nazwę\n",
    "- zmienić nazwę kopii pliku na `Imię-Nazwisko-lab2.ipynb`, gdzie `Imię` i `Nazwisko` to Twoje imię i nazwisko\n",
    "\n",
    "Potem proszę śmiało edytować swoją kopię :-)\n",
    "\n",
    "Kiedy skończysz, wybierz opcję Plik->Zapisz, zamknij okno przeglądarki, wyłącz komputer i wyjdź z zajęć :-)"
   ]
  },
  {
   "cell_type": "markdown",
   "id": "4c6ee9ba-6742-42f1-b21a-f3b7a2096acb",
   "metadata": {
    "id": "4c6ee9ba-6742-42f1-b21a-f3b7a2096acb"
   },
   "source": [
    "To jest pierwsza komórka. Ta komórka zawiera tekst. Są też komórki, które zawierają kod programów.\n",
    "\n",
    "Żeby wykonać zawartość każdej komórki, proszę naciskać kombinację klawiszy `Shift+Enter`"
   ]
  },
  {
   "cell_type": "markdown",
   "id": "d82f425b-17be-4d6d-82a1-75ed49dba103",
   "metadata": {
    "id": "d82f425b-17be-4d6d-82a1-75ed49dba103"
   },
   "source": [
    "W pliku tekstowym o nazwie `imiona.txt` znajduje się lista imion męskich i żeńskich. Oto pierwsze trzy linie i pięć ostatnich linii tego pliku:\n",
    "```\n",
    "Aaron m\n",
    "Abba m\n",
    "Abdiasz m\n",
    "...\n",
    "Żelisław m\n",
    "Żenia ż\n",
    "Żeńka ż\n",
    "Żyrosław m\n",
    "Żywisława ż\n",
    "```"
   ]
  },
  {
   "cell_type": "markdown",
   "id": "6c8f907c-3aaf-4997-9d5d-11064d953e6e",
   "metadata": {
    "id": "6c8f907c-3aaf-4997-9d5d-11064d953e6e"
   },
   "source": [
    "Na dzisiejszych zajęciach będziemy pisać programy, które znajdą imiona zawierające pewne litery na określonych pozycjach.\n",
    "\n",
    "**Ważna informacja:** Rozwiązaniem każdego zadania jest co najmniej jedno imię. Jeśli Twoje rozwiązanie nie wypisuje żadnych imion, to znaczy, że jest w nim błąd. Popraw ten błąd lub porozmawiaj z prowadzącym zajęcia :-)"
   ]
  },
  {
   "cell_type": "markdown",
   "id": "5e77dc57-9798-438c-9591-76faa11ed1c1",
   "metadata": {
    "id": "5e77dc57-9798-438c-9591-76faa11ed1c1"
   },
   "source": [
    "## Zadania na czwórkę"
   ]
  },
  {
   "cell_type": "markdown",
   "id": "2335afb8-1a50-41b1-b45f-7e208e2e56cc",
   "metadata": {
    "id": "2335afb8-1a50-41b1-b45f-7e208e2e56cc"
   },
   "source": [
    "**Zadanie**. Proszę napisać program, który najpierw spyta użytkownika o imię, a potem powita tego użytkownika."
   ]
  },
  {
   "cell_type": "code",
   "execution_count": null,
   "id": "383fa3e7-1f92-4f81-836d-1132faad3ade",
   "metadata": {
    "id": "383fa3e7-1f92-4f81-836d-1132faad3ade"
   },
   "outputs": [],
   "source": [
    "# Wpisz rozwiązanie poniżej:"
   ]
  },
  {
   "cell_type": "markdown",
   "id": "d81fb344-02a2-4fcb-98c8-608a0f83eefb",
   "metadata": {
    "id": "d81fb344-02a2-4fcb-98c8-608a0f83eefb"
   },
   "source": [
    "**Zadanie**. Proszę napisać program, który znajdzie w pliku tekstowym o nazwie `imiona.txt` wszystkie takie imiona, które zaczynają się literą `A`.\n",
    "**Wskazówka 1**: Na końcu pierwszej linii instrukcji warunkowej `if` stawiamy dwukropek `:`\n",
    "**Wskazówka 2**: Istnieją dwa proste wyrażenia logiczne, których można użyć w tym programie. W tym zadaniu wystarczy podać tylko jedno takie wyrażenie.\n",
    "**Wskazówka 3**:  Nie przejmuj się tym, że co druga linia wyniku tego programu jest pusta, bo wartość zmiennej `linia` kończy się znakiem nowej linii. Zajmiemy się tym później."
   ]
  },
  {
   "cell_type": "markdown",
   "id": "a813b268-c871-453c-885b-864ba973bc25",
   "metadata": {
    "id": "a813b268-c871-453c-885b-864ba973bc25"
   },
   "source": [
    "Jeśli pojawi się komórka z opisem wyjątku, nie przejmuj się. Komputer się nie zepsuł :-) Tylko w programie jest błąd. Popraw go, a potem znowu naciśnij `Shift+Enter`."
   ]
  },
  {
   "cell_type": "code",
   "execution_count": null,
   "id": "8c788403-4f95-4fec-b711-cc1ba7ea130a",
   "metadata": {
    "id": "8c788403-4f95-4fec-b711-cc1ba7ea130a"
   },
   "outputs": [],
   "source": [
    "with open('imiona.txt', 'r') as imiona:\n",
    "    for linia in imiona:\n",
    "        if  # Tu wstaw odpowiednie wyrażenie. Zajrzyj do notatek z wykładu :-)\n",
    "            print(linia)"
   ]
  },
  {
   "cell_type": "markdown",
   "id": "GdsLx1XTFbaE",
   "metadata": {
    "id": "GdsLx1XTFbaE"
   },
   "source": [
    "**Wskazówka:** Możesz usunąć takie dane wyjściowe, które zajmują dużo miejsca na ekranie, wybierając opcję Edytuj->Wyczyść wszystkie dane wyjściowe"
   ]
  },
  {
   "cell_type": "markdown",
   "id": "288100e9-bc4c-4185-b4bd-e3ea9ab2c167",
   "metadata": {
    "id": "288100e9-bc4c-4185-b4bd-e3ea9ab2c167"
   },
   "source": [
    "**Zadanie**. Jakie imiona zaczynają się literą `B`? Proszę samodzielnie napisać taki program, który odpowie na to pytanie. Wystarczy jedno rozwiązanie :-)"
   ]
  },
  {
   "cell_type": "markdown",
   "id": "7XR5OKrXD8CI",
   "metadata": {
    "id": "7XR5OKrXD8CI"
   },
   "source": [
    "**Ważna uwaga:** W programowaniu nazwy są ważne. Jeśli zrobisz literówkę w nazwie zmiennej, na przykład napiszesz `imie` zamiast `imię`, możesz tego nie zauważyć. Gdy Twój program wypisuje nie takie wyniki, których się spodziewasz, możesz zastosować ten trik:\n",
    "\n",
    "- Wybierz opcję Środowisko wykonawcze->Uruchom ponownie sesję\n",
    "- Ponownie wykonaj kombinacją klawiszy Shift+Enter magiczne instrukcje z komórki na początku niniejszego pliku\n",
    "- Nie wykonuj programów w innych komórkach, tylko w tej, która sprawia Ci kłopot\n",
    "- Przyjrzyj się, czy widać komunikat o wyjątku\n",
    "- Zrozum ten komunikat\n",
    "- Popraw program :-)\n"
   ]
  },
  {
   "cell_type": "code",
   "execution_count": null,
   "id": "9dfd8606-1963-4a7f-87e0-90fbebcb7652",
   "metadata": {
    "id": "9dfd8606-1963-4a7f-87e0-90fbebcb7652"
   },
   "outputs": [],
   "source": [
    "# Wpisz rozwiązanie poniżej:\n",
    "with open('imiona.txt', 'r') as imiona:\n",
    "    for linia in imiona:\n",
    "        if # Tu wstaw odpowiednie wyrażenie. Zajrzyj do notatek z wykładu :-)\n",
    "            print(linia)"
   ]
  },
  {
   "cell_type": "markdown",
   "id": "157d7444-6de9-4701-bce0-360abfb5557c",
   "metadata": {
    "id": "157d7444-6de9-4701-bce0-360abfb5557c"
   },
   "source": [
    "**Zadanie**. Jakie imiona kończą się literami `ara`? Zauważ, że puste linie wyniku zniknęły, bo wartość zmiennej `imię` nie kończy się znakiem nowej linii."
   ]
  },
  {
   "cell_type": "code",
   "execution_count": null,
   "id": "c4f5490d-8520-4e27-a814-3f4ba1bc0c0d",
   "metadata": {
    "id": "c4f5490d-8520-4e27-a814-3f4ba1bc0c0d"
   },
   "outputs": [],
   "source": [
    "with open('imiona.txt', 'r') as imiona:\n",
    "    for linia in imiona:\n",
    "        imię, płeć = linia.split()\n",
    "        if # Tu wstaw odpowiednie wyrażenie\n",
    "            print(imię)"
   ]
  },
  {
   "cell_type": "markdown",
   "id": "837d6614-3683-437f-85d5-c7495c68202c",
   "metadata": {
    "id": "837d6614-3683-437f-85d5-c7495c68202c"
   },
   "source": [
    "**Zadanie**. Jakie imiona zawierają ciąg liter `Anna` lub `anna`? Są dwa proste sposoby rozwiązania tego zadania. Wystarczy podać jedno rozwiązanie."
   ]
  },
  {
   "cell_type": "code",
   "execution_count": null,
   "id": "fb75989f-5419-499e-9580-a8c34e33fdb4",
   "metadata": {
    "id": "fb75989f-5419-499e-9580-a8c34e33fdb4"
   },
   "outputs": [],
   "source": [
    "# Wpisz rozwiązanie poniżej:"
   ]
  },
  {
   "cell_type": "markdown",
   "id": "4051e786-457b-4ebb-9bcf-6f67b28e9071",
   "metadata": {
    "id": "4051e786-457b-4ebb-9bcf-6f67b28e9071"
   },
   "source": [
    "**Zadanie**. Jakie imiona męskie kończą się literą `a`? **Wskazówka:** imiona męskie są oznaczone małą literą `m`."
   ]
  },
  {
   "cell_type": "code",
   "execution_count": null,
   "id": "6a8ae06f-36a8-4884-8481-acfbb1835b26",
   "metadata": {
    "id": "6a8ae06f-36a8-4884-8481-acfbb1835b26"
   },
   "outputs": [],
   "source": [
    "# Wpisz rozwiązanie poniżej:"
   ]
  },
  {
   "cell_type": "markdown",
   "id": "aaf4d770-a736-45bb-b679-6a702255f94a",
   "metadata": {
    "id": "aaf4d770-a736-45bb-b679-6a702255f94a"
   },
   "source": [
    "**Zadanie**. Jakie imiona mają 5 liter i ich trzecią literą jest `k`? Proszę pamiętać, że indeksy znaków w łańcuchach zaczynają się od 0."
   ]
  },
  {
   "cell_type": "code",
   "execution_count": null,
   "id": "f6c9c8b5-041a-4ac9-b5c8-af5149f806b4",
   "metadata": {
    "id": "f6c9c8b5-041a-4ac9-b5c8-af5149f806b4"
   },
   "outputs": [],
   "source": [
    "# Wpisz rozwiązanie poniżej:"
   ]
  },
  {
   "cell_type": "markdown",
   "id": "fd43e18b-18bf-462e-bbc0-88d2bd5dd5aa",
   "metadata": {
    "id": "fd43e18b-18bf-462e-bbc0-88d2bd5dd5aa"
   },
   "source": [
    "**Zadanie**. Jakie imiona żeńskie mają 5 liter i ich trzecią literą jest `j`? Proszę pamiętać, że indeksy znaków w łańcuchach zaczynają się od 0. **Wskazówka:** imiona żeńskie są oznaczona małą literą `ż`."
   ]
  },
  {
   "cell_type": "code",
   "execution_count": null,
   "id": "3abfcdb1-5097-4daf-9528-ebaef5a7cad8",
   "metadata": {
    "id": "3abfcdb1-5097-4daf-9528-ebaef5a7cad8"
   },
   "outputs": [],
   "source": [
    "# Wpisz rozwiązanie poniżej:"
   ]
  },
  {
   "cell_type": "markdown",
   "id": "98322cb7-b0b6-4261-a8d4-5820f5464e88",
   "metadata": {
    "id": "98322cb7-b0b6-4261-a8d4-5820f5464e88"
   },
   "source": [
    "**Zadanie**. Proszę wymyślić dla siebie zadanie. Proszę najpierw zapisać w tej komórce treść tego zadania, a potem rozwiązać to zadanie w komórce poniżej."
   ]
  },
  {
   "cell_type": "code",
   "execution_count": null,
   "id": "883d49e4-621c-4892-b70c-f83de8053a10",
   "metadata": {
    "id": "883d49e4-621c-4892-b70c-f83de8053a10"
   },
   "outputs": [],
   "source": [
    "# Wpisz rozwiązanie poniżej:"
   ]
  },
  {
   "cell_type": "markdown",
   "id": "LN_G_uRhvI2E",
   "metadata": {
    "id": "LN_G_uRhvI2E"
   },
   "source": [
    "**Nie zapomnij zapisać tego pliku zanim zamkniesz kartę przeglądarki :-)**"
   ]
  },
  {
   "cell_type": "markdown",
   "id": "86b4212d-48a8-440b-9e73-e4cd306d1ce9",
   "metadata": {
    "id": "86b4212d-48a8-440b-9e73-e4cd306d1ce9"
   },
   "source": [
    "## Zadanie na piątkę"
   ]
  },
  {
   "cell_type": "markdown",
   "id": "c3da6749-30dd-464a-ba41-93ff24102bcb",
   "metadata": {
    "id": "c3da6749-30dd-464a-ba41-93ff24102bcb"
   },
   "source": [
    "Cztery imiona `KAMIL`, `AGNIESZKA`, `ALICJA` i `MŚCIWÓJ` to jedno z rozwiązań tej krzyżówki:\n",
    "\n",
    "![krzyżówka](data:image/jpeg;base64,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)\n",
    "\n",
    "Proszę napisać program, który wypisuje wszystkie rozwiązania tej krzyżówki. Proszę pamiętać, że indeksy znaków w łańcuchach zaczynają się od 0. Proszę wpisać do tej krzyżówki jedno z tych rozwiązań, które wypisał program, aby sprawdzić, czy to rozwiązanie jest poprawne. **Wskazówka**: aby uniknąć zbyt głębokich wcięć, możesz zastosować stary sposób otwierania i zamykania plików:\n",
    "```\n",
    "imiona1 = open('imiona.txt')\n",
    "...\n",
    "...\n",
    "...\n",
    "imiona1.close()\n",
    "```"
   ]
  },
  {
   "cell_type": "code",
   "execution_count": null,
   "id": "6727c480-ae68-4762-92c0-9652104c7dbc",
   "metadata": {
    "id": "6727c480-ae68-4762-92c0-9652104c7dbc"
   },
   "outputs": [],
   "source": [
    "imiona1 = open('imiona.txt')\n",
    "for linia1 in imiona1:\n",
    "    imię1, płeć1 = linia1.upper().split()\n",
    "    if len(imię1) == 5:\n",
    "        imiona2 = open('imiona.txt')\n",
    "        for linia2 in imiona2:\n",
    "            imię2, płeć2 = linia2.upper().split()\n",
    "            # Dokończ program\n",
    "            # Umieść tę instrukcję w najbardziej zagnieżdżonej pętli:\n",
    "                                print(imię1, imię2, imię3, imię4)\n",
    "            # Pamiętaj o tym, żeby zamknąć pliki imiona3 i imiona4\n",
    "        imiona2.close()\n",
    "imiona1.close()"
   ]
  },
  {
   "cell_type": "markdown",
   "id": "uWgy2Xz_vNqJ",
   "metadata": {
    "id": "uWgy2Xz_vNqJ"
   },
   "source": [
    "**Nie zapomnij zapisać tego pliku zanim zamkniesz kartę przeglądarki :-)**"
   ]
  }
 ],
 "metadata": {
  "colab": {
   "provenance": []
  },
  "kernelspec": {
   "display_name": "Python 3 (ipykernel)",
   "language": "python",
   "name": "python3"
  },
  "language_info": {
   "codemirror_mode": {
    "name": "ipython",
    "version": 3
   },
   "file_extension": ".py",
   "mimetype": "text/x-python",
   "name": "python",
   "nbconvert_exporter": "python",
   "pygments_lexer": "ipython3",
   "version": "3.13.7"
  }
 },
 "nbformat": 4,
 "nbformat_minor": 5
}
