{
 "cells": [
  {
   "cell_type": "markdown",
   "id": "4c6ee9ba-6742-42f1-b21a-f3b7a2096acb",
   "metadata": {},
   "source": [
    "To jest pierwsza komórka. Ta komórka zawiera tekst. Są też komórki, które zawierają kod programów. Żeby wykonać zawartość każdej komórki, proszę naciskać kombinację klawiszy `Shift+Enter`"
   ]
  },
  {
   "cell_type": "markdown",
   "id": "d82f425b-17be-4d6d-82a1-75ed49dba103",
   "metadata": {},
   "source": [
    "W pliku tekstowym o nazwie `imiona.txt` znajduje się lista imion męskich i żeńskich. Oto pierwsze trzy linie i pięć ostatnich linii tego pliku:\n",
    "```\n",
    "Aaron m\n",
    "Abba m\n",
    "Abdiasz m\n",
    "...\n",
    "Żelisław m\n",
    "Żenia ż\n",
    "Żeńka ż\n",
    "Żyrosław m\n",
    "Żywisława ż\n",
    "```"
   ]
  },
  {
   "cell_type": "markdown",
   "id": "6c8f907c-3aaf-4997-9d5d-11064d953e6e",
   "metadata": {},
   "source": [
    "Na dzisiejszych zajęciach będziemy pisać programy, które znajdą imiona zawierające pewne litery na określonych pozycjach."
   ]
  },
  {
   "cell_type": "markdown",
   "id": "5e77dc57-9798-438c-9591-76faa11ed1c1",
   "metadata": {},
   "source": [
    "## Zadania na czwórkę"
   ]
  },
  {
   "cell_type": "markdown",
   "id": "2335afb8-1a50-41b1-b45f-7e208e2e56cc",
   "metadata": {},
   "source": [
    "**Zadanie**. Proszę napisać program, który najpierw spyta użytkownika o imię, a potem powita tego użytkownika."
   ]
  },
  {
   "cell_type": "code",
   "execution_count": null,
   "id": "383fa3e7-1f92-4f81-836d-1132faad3ade",
   "metadata": {},
   "outputs": [],
   "source": [
    "# Wpisz rozwiązanie poniżej:"
   ]
  },
  {
   "cell_type": "markdown",
   "id": "d81fb344-02a2-4fcb-98c8-608a0f83eefb",
   "metadata": {},
   "source": [
    "**Zadanie**. Proszę napisać program, który znajdzie w pliku tekstowym o nazwie `imiona.txt` wszystkie takie imiona, które zaczynają się literą `A`.\n",
    "**Wskazówka 1**: Na końcu pierwszej linii instrukcji warunkowej `if` stawiamy dwukropek `:`\n",
    "**Wskazówka 2**: Istnieją dwa proste wyrażenia logiczne, których można użyć w tym programie. W tym zadaniu wystarczy podać tylko jedno takie wyrażenie.\n",
    "**Wskazówka 3**:  Nie przejmuj się tym, że co druga linia wyniku tego programu jest pusta, bo wartość zmiennej `linia` kończy się znakiem nowej linii. Zajmiemy się tym później."
   ]
  },
  {
   "cell_type": "markdown",
   "id": "a813b268-c871-453c-885b-864ba973bc25",
   "metadata": {},
   "source": [
    "Jeśli pojawi się komórka z różowym tłem i opisem wyjątku, nie przejmuj się. Komputer się nie zepsuł :-) Tylko w programie jest błąd. Popraw go, a potem znowu naciśnij `Shift+Enter`."
   ]
  },
  {
   "cell_type": "code",
   "execution_count": null,
   "id": "8c788403-4f95-4fec-b711-cc1ba7ea130a",
   "metadata": {},
   "outputs": [],
   "source": [
    "with open('imiona.txt', 'r') as imiona:\n",
    "    for linia in imiona:\n",
    "        if # Tu wstaw odpowiednie wyrażenie. Zajrzyj do notatek z wykładu :-)\n",
    "            print(linia)"
   ]
  },
  {
   "cell_type": "markdown",
   "id": "288100e9-bc4c-4185-b4bd-e3ea9ab2c167",
   "metadata": {},
   "source": [
    "**Zadanie**. Jakie imiona zaczynają się literą `B`? Proszę samodzielnie napisać taki program, który odpowie na to pytanie. Wystarczy jedno rozwiązanie :-)"
   ]
  },
  {
   "cell_type": "code",
   "execution_count": null,
   "id": "9dfd8606-1963-4a7f-87e0-90fbebcb7652",
   "metadata": {},
   "outputs": [],
   "source": [
    "# Wpisz rozwiązanie poniżej:          "
   ]
  },
  {
   "cell_type": "markdown",
   "id": "157d7444-6de9-4701-bce0-360abfb5557c",
   "metadata": {},
   "source": [
    "**Zadanie**. Jakie imiona kończą się literami `ara`? Zauważ, że puste linie wyniku zniknęły, bo wartość zmiennej `imię` nie kończy się znakiem nowej linii."
   ]
  },
  {
   "cell_type": "code",
   "execution_count": null,
   "id": "c4f5490d-8520-4e27-a814-3f4ba1bc0c0d",
   "metadata": {},
   "outputs": [],
   "source": [
    "with open('imiona.txt', 'r') as imiona:\n",
    "    for linia in imiona:\n",
    "        imię, płeć = linia.split()\n",
    "        if # Tu wstaw odpowiednie wyrażenie\n",
    "            print(imię)"
   ]
  },
  {
   "cell_type": "markdown",
   "id": "837d6614-3683-437f-85d5-c7495c68202c",
   "metadata": {},
   "source": [
    "**Zadanie**. Jakie imiona zawierają ciąg liter `Anna` lub `anna`? Są dwa proste sposoby rozwiązania tego zadania. Wystarczy podać jedno rozwiązanie."
   ]
  },
  {
   "cell_type": "code",
   "execution_count": null,
   "id": "fb75989f-5419-499e-9580-a8c34e33fdb4",
   "metadata": {},
   "outputs": [],
   "source": [
    "# Wpisz rozwiązanie poniżej:"
   ]
  },
  {
   "cell_type": "markdown",
   "id": "4051e786-457b-4ebb-9bcf-6f67b28e9071",
   "metadata": {},
   "source": [
    "**Zadanie**. Jakie imiona męskie kończą się literą `a`?"
   ]
  },
  {
   "cell_type": "code",
   "execution_count": null,
   "id": "6a8ae06f-36a8-4884-8481-acfbb1835b26",
   "metadata": {},
   "outputs": [],
   "source": [
    "# Wpisz rozwiązanie poniżej:"
   ]
  },
  {
   "cell_type": "markdown",
   "id": "aaf4d770-a736-45bb-b679-6a702255f94a",
   "metadata": {},
   "source": [
    "**Zadanie**. Jakie imiona mają 5 liter i ich trzecią literą jest `k`? Proszę pamiętać, że indeksy znaków w łańcuchach zaczynają się od 0."
   ]
  },
  {
   "cell_type": "code",
   "execution_count": null,
   "id": "f6c9c8b5-041a-4ac9-b5c8-af5149f806b4",
   "metadata": {},
   "outputs": [],
   "source": [
    "# Wpisz rozwiązanie poniżej:"
   ]
  },
  {
   "cell_type": "markdown",
   "id": "fd43e18b-18bf-462e-bbc0-88d2bd5dd5aa",
   "metadata": {},
   "source": [
    "**Zadanie**. Jakie imiona żeńskie mają 5 liter i ich trzecią literą jest `j`? Proszę pamiętać, że indeksy znaków w łańcuchach zaczynają się od 0."
   ]
  },
  {
   "cell_type": "code",
   "execution_count": null,
   "id": "3abfcdb1-5097-4daf-9528-ebaef5a7cad8",
   "metadata": {},
   "outputs": [],
   "source": [
    "# Wpisz rozwiązanie poniżej:"
   ]
  },
  {
   "cell_type": "markdown",
   "id": "98322cb7-b0b6-4261-a8d4-5820f5464e88",
   "metadata": {},
   "source": [
    "**Zadanie**. Proszę wymyślić dla siebie zadanie. Proszę najpierw zapisać w tej komórce treść tego zadania, a potem rozwiązać to zadanie w komórce poniżej."
   ]
  },
  {
   "cell_type": "code",
   "execution_count": null,
   "id": "883d49e4-621c-4892-b70c-f83de8053a10",
   "metadata": {},
   "outputs": [],
   "source": [
    "# Wpisz rozwiązanie poniżej:"
   ]
  },
  {
   "cell_type": "markdown",
   "id": "86b4212d-48a8-440b-9e73-e4cd306d1ce9",
   "metadata": {},
   "source": [
    "## Zadanie na piątkę"
   ]
  },
  {
   "cell_type": "markdown",
   "id": "c3da6749-30dd-464a-ba41-93ff24102bcb",
   "metadata": {},
   "source": [
    "Cztery imiona `KAMIL`, `AGNIESZKA`, `ALICJA` i `MŚCIWÓJ` to jedno z rozwiązań tej krzyżówki:\n",
    "\n",
    "![krzyżówka](krzyżówka2.jpeg)\n",
    "\n",
    "Proszę napisać program, który wypisuje wszystkie rozwiązania tej krzyżówki. Proszę pamiętać, że indeksy znaków w łańcuchach zaczynają się od 0. Proszę wpisać do tej krzyżówki jedno z tych rozwiązań, które wypisał program, aby sprawdzić, czy to rozwiązanie jest poprawne. **Wskazówka**: aby uniknąć zbyt głębokich wcięć, możesz zastosować stary sposób otwierania i zamykania plików:\n",
    "```\n",
    "imiona1 = open('imiona.txt')\n",
    "...\n",
    "...\n",
    "...\n",
    "imiona1.close()\n",
    "```"
   ]
  },
  {
   "cell_type": "code",
   "execution_count": 2,
   "id": "6727c480-ae68-4762-92c0-9652104c7dbc",
   "metadata": {},
   "outputs": [
    {
     "ename": "IndentationError",
     "evalue": "unexpected indent (3136257974.py, line 9)",
     "output_type": "error",
     "traceback": [
      "  \u001b[36mCell\u001b[39m\u001b[36m \u001b[39m\u001b[32mIn[2]\u001b[39m\u001b[32m, line 9\u001b[39m\n\u001b[31m    \u001b[39m\u001b[31mprint(imię1, imię2, imię3, imię4)\u001b[39m\n    ^\n\u001b[31mIndentationError\u001b[39m\u001b[31m:\u001b[39m unexpected indent\n"
     ]
    }
   ],
   "source": [
    "imiona1 = open('imiona.txt')\n",
    "for linia1 in imiona1:\n",
    "    imię1, płeć1 = linia1.upper().split()\n",
    "    if len(imię1) == 5:\n",
    "        imiona2 = open('imiona.txt')\n",
    "        for linia2 in imiona2:\n",
    "            imię2, płeć2 = linia2.upper().split()\n",
    "            # Dokończ program\n",
    "            # Umieść tę instrukcję w najbardziej zagnieżdżonej pętli:\n",
    "                                print(imię1, imię2, imię3, imię4)\n",
    "            # Pamiętaj o tym, żeby zamknąć pliki imiona3 i imiona4\n",
    "        imiona2.close()\n",
    "imiona1.close()"
   ]
  },
  {
   "cell_type": "code",
   "execution_count": null,
   "id": "c71d1fb4-06a8-4cc9-ae0d-ac98c309bb44",
   "metadata": {},
   "outputs": [],
   "source": []
  }
 ],
 "metadata": {
  "kernelspec": {
   "display_name": "Python 3 (ipykernel)",
   "language": "python",
   "name": "python3"
  },
  "language_info": {
   "codemirror_mode": {
    "name": "ipython",
    "version": 3
   },
   "file_extension": ".py",
   "mimetype": "text/x-python",
   "name": "python",
   "nbconvert_exporter": "python",
   "pygments_lexer": "ipython3",
   "version": "3.13.7"
  }
 },
 "nbformat": 4,
 "nbformat_minor": 5
}
