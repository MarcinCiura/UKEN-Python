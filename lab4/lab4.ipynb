{
 "cells": [
  {
   "cell_type": "markdown",
   "id": "lqUqootbp0bU",
   "metadata": {
    "id": "lqUqootbp0bU"
   },
   "source": [
    "**UWAGA** Proszę nic nie zmieniać w tym pliku tylko:\n",
    "\n",
    "- wybrać opcję Plik->Zapisz kopię na Dysku\n",
    "- w tej zakładce przeglądarki, która wyświetli kopię tego pliku (`Kopia notatnika lab4.ipynb`), wybrać opcję Plik->Zmień nazwę\n",
    "- zmienić nazwę kopii pliku na `lab4-Imię-Nazwisko.ipynb`, gdzie `Imię` i `Nazwisko` to Twoje imię i nazwisko\n",
    "\n",
    "Potem proszę śmiało edytować swoją kopię :-)\n",
    "\n",
    "Kiedy skończysz, **koniecznie** wybierz opcję Plik->Zapisz, zamknij okno przeglądarki, wyłącz komputer i wyjdź z zajęć :-)"
   ]
  },
  {
   "cell_type": "markdown",
   "id": "f11017f8-7070-4d10-84ee-43b87685bf6e",
   "metadata": {},
   "source": [
    "## Zadania na czwórkę"
   ]
  },
  {
   "cell_type": "markdown",
   "id": "5579efbc-c707-4c09-8a21-30fdfefa3f99",
   "metadata": {},
   "source": [
    "**Zadanie**. Przypisz swoje imię do zmiennej `imię` i swoje nazwisko do zmiennej `nazwisko`.\n",
    "Utwórz zbiór `litery_imienia`, który zawiera znaki zmiennej `imię` zamienione na duże litery,\n",
    "i zbiór `litery_nazwiska`, który zawiera znaki zmiennej `nazwisko` zamienione na duże litery.\n",
    "Skorzystaj ze zbiorów składanych.\n",
    "\n",
    "Wypisz te dwa zbiory. Następnie:\n",
    "- Wypisz w kolejności alfabetycznej te litery, które należą do sumy zbiorów `litery_imienia` i `litery_nazwiska`\n",
    "- Wypisz w kolejności alfabetycznej te litery, które należą do części wspólnej zbiorów `litery_imienia` i `litery_nazwiska`\n",
    "- Wypisz w kolejności alfabetycznej te litery, które należą do zbioru `litery_imienia` i nie należą do zbioru `litery_nazwiska`\n",
    "\n",
    "Skorzystaj z funkcji `sorted`."
   ]
  },
  {
   "cell_type": "code",
   "execution_count": null,
   "id": "5cb07eee-214f-4936-a88d-bd905f47f956",
   "metadata": {},
   "outputs": [],
   "source": []
  },
  {
   "cell_type": "code",
   "execution_count": null,
   "id": "b50e48e4-726d-4542-94e1-05ab88e14c3e",
   "metadata": {},
   "outputs": [],
   "source": []
  },
  {
   "cell_type": "code",
   "execution_count": null,
   "id": "05ac6226-b60e-405f-b94e-0a9ba79cc5f1",
   "metadata": {},
   "outputs": [],
   "source": []
  },
  {
   "cell_type": "code",
   "execution_count": null,
   "id": "b77cf88f-ad1d-408a-abdf-905356324122",
   "metadata": {},
   "outputs": [],
   "source": []
  },
  {
   "cell_type": "markdown",
   "id": "07315998-bb2b-40fc-8f95-f0e179e5a3cd",
   "metadata": {},
   "source": [
    "**Zadanie**. Dana jest lista `osoby_in`, która zawiera krotki `(imię, nazwisko)`.\n",
    "Utwórz listę `osoby_ni`, która zawiera krotki `(nazwisko, imię)`,\n",
    "opisujące te same osoby, w tej samej kolejności. Skorzystaj z listy składanej.\n",
    "Wypisz listę `osoby_ni`. Następnie wypisz listę `osoby_ni` posortowaną alfabetycznie według nazwisk, a jeśli dwa nazwiska są jednakowe — według imion. Skorzystaj z funkcji `sorted`."
   ]
  },
  {
   "cell_type": "code",
   "execution_count": null,
   "id": "baf5dc3a-4830-48b1-8897-c79f865a7fb0",
   "metadata": {},
   "outputs": [],
   "source": [
    "osoby_in = [('Jan', 'Nowak'), ('Anna', 'Nowak'), ('Jan', 'Kowalski'), ('Joanna', 'Kowalska')]"
   ]
  },
  {
   "cell_type": "code",
   "execution_count": null,
   "id": "cdc7e88f-aaf3-446a-9c6d-449026510391",
   "metadata": {},
   "outputs": [],
   "source": []
  },
  {
   "cell_type": "code",
   "execution_count": null,
   "id": "0d884127-70b8-46b7-9308-355f314c6c91",
   "metadata": {},
   "outputs": [],
   "source": [
    "assert(osoby_ni == [('Nowak', 'Jan'), ('Nowak', 'Anna'), ('Kowalski', 'Jan'), ('Kowalska', 'Joanna')])"
   ]
  },
  {
   "cell_type": "code",
   "execution_count": null,
   "id": "d7987e9c-5c4e-47d1-9882-da3c48a2ece1",
   "metadata": {},
   "outputs": [],
   "source": []
  },
  {
   "cell_type": "markdown",
   "id": "4d69e752-546f-42f1-9cfb-a49eccf3c66d",
   "metadata": {},
   "source": [
    "Oczekiwany wynik:\n",
    "```\n",
    "[('Kowalska', 'Joanna'), ('Kowalski', 'Jan'), ('Nowak', 'Anna'), ('Nowak', 'Jan')]\n",
    "```"
   ]
  },
  {
   "cell_type": "markdown",
   "id": "51ad2d38-11de-4348-bd34-d88e2c1d45db",
   "metadata": {},
   "source": [
    "**Zadanie**. Wypisz tabelę kątów oraz wartości funkcji sinus i funkcji cosinus tych kątów.\n",
    "Kąty mają przyjmować wartości od 0 stopni do 90 stopni z krokiem 10 stopni. Wypisz kąty w polu o szerokości 2 znaków, a wartości funkcji sinus i funkcji cosinus jako liczby rzeczywiste w polach o szerokości 10 znaków z dokładnością 8 cyfr po przecinku."
   ]
  },
  {
   "cell_type": "code",
   "execution_count": null,
   "id": "aebd7c1c-834c-4503-9168-5d69c8fac05a",
   "metadata": {},
   "outputs": [],
   "source": []
  },
  {
   "cell_type": "markdown",
   "id": "bcb611a4-4f26-4812-9cd7-fd6a6428ef51",
   "metadata": {},
   "source": [
    "Oczekiwany wynik:\n",
    "```\n",
    " 0 0.00000000 1.00000000\n",
    "10 0.17364818 0.98480775\n",
    "20 0.34202014 0.93969262\n",
    "30 0.50000000 0.86602540\n",
    "40 0.64278761 0.76604444\n",
    "50 0.76604444 0.64278761\n",
    "60 0.86602540 0.50000000\n",
    "70 0.93969262 0.34202014\n",
    "80 0.98480775 0.17364818\n",
    "90 1.00000000 0.00000000\n",
    "```"
   ]
  },
  {
   "cell_type": "markdown",
   "id": "7daf4aff-dc90-4714-9997-6ecc5aae473f",
   "metadata": {},
   "source": [
    "**Zadanie**. Zaimportuj moduł `antigravity`. Żarty ukryte w programach nazywa się *Easter eggs*,\n",
    "od zabawy w szukanie jajek wielkanocnych."
   ]
  },
  {
   "cell_type": "code",
   "execution_count": null,
   "id": "53809457-78c7-4a5b-9937-39ebffd96af4",
   "metadata": {},
   "outputs": [],
   "source": []
  },
  {
   "cell_type": "markdown",
   "id": "e35ad527-ff4b-45ab-bfb7-bc4caabf3917",
   "metadata": {},
   "source": [
    "**Zadanie**. Uruchom ten fragment programu, aby przeczytać dowcip:"
   ]
  },
  {
   "cell_type": "code",
   "execution_count": null,
   "id": "3732c950-8c52-4249-8208-488b63ed65aa",
   "metadata": {},
   "outputs": [],
   "source": [
    "import urllib.request\n",
    "\n",
    "req = urllib.request.Request(\n",
    "    url='https://icanhazdadjoke.com/', headers={'Accept': 'text/plain'})\n",
    "with urllib.request.urlopen(req) as response:\n",
    "    print(response.read().decode('utf-8'))"
   ]
  },
  {
   "cell_type": "markdown",
   "id": "2f203195-46ce-43f9-a720-4d8c49f11fb2",
   "metadata": {},
   "source": [
    "Napisz analogiczny fragment programu, który wypisze bieżącą pogodę w Krakowie, pobraną z adresu `https://wttr.in/?format=4`"
   ]
  },
  {
   "cell_type": "code",
   "execution_count": null,
   "id": "b323a06b-c53b-4f82-ae8b-ac175cd9d968",
   "metadata": {},
   "outputs": [],
   "source": []
  },
  {
   "cell_type": "markdown",
   "id": "7a6f47ad-9384-47e2-8919-5373c299e7c0",
   "metadata": {},
   "source": [
    "**Zadanie**. Utwórz słownik `oceny`, którego kluczami są imiona czterech osób,\n",
    "a wartościami cztery oceny tych osób (każda osoba ma jedną ocenę).\n",
    "Napisz taką funkcję, która przyjmuje jako argument słownik\n",
    "i wypisuje listę osób wraz z ich ocenami w kolejności alfabetycznej ich imion.\n",
    "Wywołaj tę funkcję z argumentem `oceny`."
   ]
  },
  {
   "cell_type": "code",
   "execution_count": null,
   "id": "25dc2110-2224-4242-8fec-8e548ea5d45c",
   "metadata": {},
   "outputs": [],
   "source": []
  },
  {
   "cell_type": "markdown",
   "id": "02de860e-406e-4e08-a22e-f31eae39458f",
   "metadata": {},
   "source": [
    "W zadaniach 7–10 będziemy pisać program, który gra z użytkownikiem w grę. Oto zasady gry:\n",
    "- Użytkownik podaje dowolne imię\n",
    "- Komputer podaje *dokończenie* tego imienia, które podał użytkownik\n",
    "- Użytkownik podaje *dokończenie* tego imienia, które podał komputer\n",
    "- i tak dalej.\n",
    "\n",
    "Imię `i2` jest *dokończeniem* imienia `i1`, jeśli pewna końcówka imienia `i1` jest początkiem imienia `i2`. Długość wspólnej cześci `i1` i `i2` musi być równa co najmniej 2. Całe `i1` nie jest swoją końcówką. Całe `i2` nie jest swoim początkiem.\n",
    "\n",
    "Przykłady dokończeń:\n",
    "- ✅ANNA - NATALIA (wspólna część NA)\n",
    "- ✅SZYMON - MONIKA (wspólna część MON)\n",
    "- ✅ALAN - LANCELOT (wspólna część LAN)\n",
    "\n",
    "Przykłady niepoprawnych dokończeń:\n",
    "- ❌ANNA - AUGUST (zbyt krótka część wspólna)\n",
    "- ❌ANDRZEJ - ANDRZEJEK (całe `i1` to nie końcówka `i1`)\n",
    "- ❌JOANNA - ANNA (całe `i2` to nie początek `i2`)\n",
    "\n",
    "Przegrywa ten gracz, który:\n",
    "- albo nie umie podać poprawnego imienia zgodnie z regułami gry\n",
    "- albo podał niepoprawne imię\n",
    "- albo podał imię które nie jest dokończeniem poprzedniego imienia.\n",
    "\n",
    "Jeśli nie znasz żadnego imienia, które jest dokończeniem poprzedniego imienia, wpisz cokolwiek, aby sie poddać.\n",
    "\n",
    "Przykład gry:\n",
    "- człowiek: BOGDAN\n",
    "- komputer: ANNA\n",
    "- człowiek: NATALIA\n",
    "\n",
    "Komputer się poddaje, bo nie zna takiego imienia, które byłoby dokończeniem imienia NATALIA."
   ]
  },
  {
   "cell_type": "markdown",
   "id": "714fa1b7-cb1d-423b-a80d-e62860c8c11b",
   "metadata": {},
   "source": [
    "**Zadanie 7**. Napisz fragment programu, który wczyta imiona z pliku `imiona.txt` do listy `imiona`, zamieniając wszystkie litery tych imion na duże litery. Nowy element dodaje na koniec listy jej metoda `.append`. Nie zapomnij usunąć znaku końca linii z końca linii wczytywanych z pliku metodą `.strip`. Tym razem w pliku `imiona.txt` są same imiona, bez oznaczeń płci."
   ]
  },
  {
   "cell_type": "code",
   "execution_count": null,
   "id": "e58dd2a6-8f1e-45bc-a396-138284a3b3d4",
   "metadata": {},
   "outputs": [],
   "source": []
  },
  {
   "cell_type": "code",
   "execution_count": null,
   "id": "7cd23182-1648-4139-a03b-6ca9258f71a7",
   "metadata": {},
   "outputs": [],
   "source": [
    "assert imiona[:5] == ['AARON', 'ABBA', 'ABDIASZ', 'ABDON', 'ABEL']"
   ]
  },
  {
   "cell_type": "markdown",
   "id": "428af692-a89f-4fe6-8d04-685656367eec",
   "metadata": {},
   "source": [
    "**Zadanie 8**. Napisz funkcję `jest_dokończeniem(i1: str, i2: str) -> bool`. Ta funkcja ma zwracać\n",
    "wartość logiczną `True`, jeśli imię `i2` jest dokończeniem imienia `i1` zgodnie z regułami gry.\n",
    "Jeśli imię `i2` nie jest dokończeniem imienia `i1`, ta funkcja ma zwracać `False`.\n",
    "\n",
    "Użyj pętli, w której zmienna `i` przyjmuje wartości od 2 do `len(i1)-1` włącznie. Jeśli `i1[1:]` kończy się na wycinek `i2[:i]`, niech funkcja zwróci `True`. Skorzystaj z metody `.endswith`. Jeśli pętla się zakończy bez zwracania `True`, niech funkcja zwróci `False`."
   ]
  },
  {
   "cell_type": "code",
   "execution_count": null,
   "id": "b31100ef-ac5c-4fd9-8185-e399fc750f50",
   "metadata": {},
   "outputs": [],
   "source": [
    "def jest_dokończeniem(i1: str, i2: str) -> bool:\n",
    "    \"\"\"Zwraca True, jeśli i2 jest dokończeniem i1.\"\"\""
   ]
  },
  {
   "cell_type": "code",
   "execution_count": null,
   "id": "4e5fe048-b1d7-41de-ad5b-9e1f15eab684",
   "metadata": {},
   "outputs": [],
   "source": [
    "assert jest_dokończeniem('ANNA', 'NATALIA')\n",
    "assert jest_dokończeniem('ALAN', 'LANCELOT')\n",
    "assert not jest_dokończeniem('PIOTR', 'PIOTR')\n",
    "assert not jest_dokończeniem('ANNA', 'PIOTR')\n",
    "assert not jest_dokończeniem('PIOTR', 'PIOTR')\n",
    "assert not jest_dokończeniem('PIOTR', 'PIOTREK')\n",
    "assert not jest_dokończeniem('JOANNA', 'ANNA')"
   ]
  },
  {
   "cell_type": "markdown",
   "id": "fd535979-022d-4bc7-9f2c-4c261f37e5d4",
   "metadata": {},
   "source": [
    "**Nie zapomnij zapisać tego pliku zanim zamkniesz kartę przeglądarki :-)**"
   ]
  },
  {
   "cell_type": "markdown",
   "id": "910e26a8-a863-4ab8-9e90-8d346fc8e505",
   "metadata": {},
   "source": [
    "## Zadania na piątkę"
   ]
  },
  {
   "cell_type": "markdown",
   "id": "11561408-ce24-4488-97bc-f8cfb285fc7b",
   "metadata": {},
   "source": [
    "**Zadanie 9**. Napisz funkcję `twórz_dokończenia(imiona: list) -> dict`. Ta funkcja ma zwrócić słownik,\n",
    "w którym kluczami będą imiona. Każdemu imieniu ma odpowiadać lista tych imion, które można po nim\n",
    "powiedzieć zgodnie z regułami gry.\n",
    "\n",
    "Użyj pętli, w której zmienna `i1` przebiega elementy listy `imiona`. Wewnątrz tej pętli przypisz do `wynik[i1]` listę składaną, w której znajdą się takie imiona `i2` z listy `imiona`, że `jest_dokończeniem(i1, i2)`."
   ]
  },
  {
   "cell_type": "code",
   "execution_count": null,
   "id": "44b5f355-3017-44ee-a24b-835b2c55603b",
   "metadata": {},
   "outputs": [],
   "source": [
    "def twórz_dokończenia(imiona: list) -> dict:\n",
    "    \"\"\"Zwraca słownik dokończeń imion.\"\"\""
   ]
  },
  {
   "cell_type": "markdown",
   "id": "a7b47a03-cbb0-4297-bdbc-75b7ae147f53",
   "metadata": {},
   "source": [
    "Testujemy, czy funkcja `twórz_dokończenia` działa poprawnie dla niedużych danych:"
   ]
  },
  {
   "cell_type": "code",
   "execution_count": null,
   "id": "b6b39c2e-6db3-47e8-93c3-5724334b9a09",
   "metadata": {},
   "outputs": [],
   "source": [
    "assert(twórz_dokończenia(\n",
    "    ['ANNA', 'BOGUMIŁ', 'JOANNA', 'MIŁOSZ', 'MONIKA', 'NATALIA', 'NATASZA', 'SZYMON']) ==\n",
    "    {'ANNA': ['NATALIA', 'NATASZA'],\n",
    "     'BOGUMIŁ': ['MIŁOSZ'],\n",
    "     'JOANNA': ['NATALIA', 'NATASZA'],\n",
    "     'MIŁOSZ': ['SZYMON'],\n",
    "     'MONIKA': [],\n",
    "     'NATALIA': [],\n",
    "     'NATASZA': [],\n",
    "     'SZYMON': ['MONIKA'],\n",
    "    })"
   ]
  },
  {
   "cell_type": "markdown",
   "id": "ef4b4698-2f23-4563-8793-55e1f7e2bca8",
   "metadata": {},
   "source": [
    "Jeśli wynik testu jest pozytywny, tworzymy słownik `dokończenia` na podstawie imion wczytanych z pliku `imiona.txt`:"
   ]
  },
  {
   "cell_type": "code",
   "execution_count": null,
   "id": "93badb11-e404-42fa-957c-aa7babbc1bb2",
   "metadata": {},
   "outputs": [],
   "source": [
    "dokończenia = twórz_dokończenia(imiona)"
   ]
  },
  {
   "cell_type": "markdown",
   "id": "5076c64c-b8fa-4a86-b8c8-e39e09f28089",
   "metadata": {},
   "source": [
    "**Zadanie 10**. Napisz funkcję `wybierz_dokończenie(imię: str) -> str | None`, która zwraca losowe dokończenie łańcucha `imię` pobrane ze słownika `dokończenia` lub wartość `None` jeśli `imię` nie ma dokończenia.\n",
    "\n",
    "Sprawdź to, czy imię ma jakiekolwiek dokończenie, sprawdzając, czy odpowiednia lista jest prawdziwa, bez wywoływania funkcji `len`. Aby wybrać losowe dokończenie, skorzystaj z funkcji `random.choice`."
   ]
  },
  {
   "cell_type": "code",
   "execution_count": null,
   "id": "b7b19dac-a3bd-43c6-8ff7-f6fe725f24de",
   "metadata": {},
   "outputs": [],
   "source": [
    "import random\n",
    "\n",
    "def wybierz_dokończenie(imię: str) -> str | None:\n",
    "    \"\"\"Zwraca dokończenie łańcucha `imię` lub `None`.\"\"\""
   ]
  },
  {
   "cell_type": "code",
   "execution_count": null,
   "id": "b42e457f-ae60-4ff8-994e-398f8f9b2eb3",
   "metadata": {},
   "outputs": [],
   "source": [
    "assert(wybierz_dokończenie('ANTOŚ') == 'TOŚKA')\n",
    "assert(wybierz_dokończenie('WILHELM') in {'HELMUT', 'WILHELMINA'})\n",
    "assert(wybierz_dokończenie('NATALIA') is None)"
   ]
  },
  {
   "cell_type": "markdown",
   "id": "e54a7e38-5827-41a4-8a8e-f91c524d3614",
   "metadata": {},
   "source": [
    "Zagraj z komputerem co najmniej trzy razy:"
   ]
  },
  {
   "cell_type": "code",
   "execution_count": null,
   "id": "e966bb18-23a7-4c97-9a7b-5ead3059f77c",
   "metadata": {},
   "outputs": [],
   "source": [
    "def zagraj():\n",
    "    \"\"\"Gra z człowiekem.\"\"\"\n",
    "    imię_od_gracza = input('Podaj imię>').upper()\n",
    "    if imię_od_gracza not in dokończenia:\n",
    "        print(f'Nie ma takiego imienia: {imię_od_gracza}. Wygrałem :-)')\n",
    "        return\n",
    "    while True:\n",
    "        imię_od_komputera = wybierz_dokończenie(imię_od_gracza)\n",
    "        if imię_od_komputera is None:\n",
    "            print(f'Nie umiem dokończyć imienia {imię_od_gracza}. Gratuluję Ci wygranej :-)')\n",
    "            return\n",
    "        print(imię_od_komputera)\n",
    "        imię_od_gracza = input('Podaj imię>').upper()\n",
    "        if imię_od_gracza not in dokończenia:\n",
    "            print(f'Nie ma takiego imienia: {imię_od_gracza}. Wygrałem :-)')\n",
    "            return\n",
    "        if not jest_dokończeniem(imię_od_komputera, imię_od_gracza):\n",
    "            print(f'Imię {imię_od_gracza} nie jest dokończeniem imienia {imię_od_komputera}. Wygrałem :-)')\n",
    "            return"
   ]
  },
  {
   "cell_type": "code",
   "execution_count": null,
   "id": "edf9b054-f7dd-475e-8cea-a54033500d68",
   "metadata": {},
   "outputs": [],
   "source": [
    "zagraj()"
   ]
  },
  {
   "cell_type": "code",
   "execution_count": null,
   "id": "7b27cbe1-21da-4f08-90d7-5879b571421f",
   "metadata": {},
   "outputs": [],
   "source": [
    "zagraj()"
   ]
  },
  {
   "cell_type": "code",
   "execution_count": null,
   "id": "8303c955-dd87-470d-9d87-e2ee5ac08db8",
   "metadata": {},
   "outputs": [],
   "source": [
    "zagraj()"
   ]
  },
  {
   "cell_type": "markdown",
   "id": "821fffdf-3919-4caf-956d-a102ed7a6755",
   "metadata": {},
   "source": [
    "**Nie zapomnij zapisać tego pliku zanim zamkniesz kartę przeglądarki :-)**"
   ]
  },
  {
   "cell_type": "markdown",
   "id": "b8964c3a-f0d3-4d66-a878-6a1bc6ab4f1f",
   "metadata": {},
   "source": [
    "## Zadania na szóstkę :-)"
   ]
  },
  {
   "cell_type": "markdown",
   "id": "003e1faf-30a7-4cdc-b748-628cce151e06",
   "metadata": {},
   "source": [
    "**Zadanie 11**. Zmień tę kopię funkcji `zagraj` tak, że jeśli gracz wpisze znak `?` zamiast imienia,\n",
    "komputer:\n",
    "- podpowie graczowi dokończenia\n",
    "- ponownie poprosi gracza o wpisanie imienia"
   ]
  },
  {
   "cell_type": "code",
   "execution_count": null,
   "id": "1eb575f5-d090-4207-a0d8-fe07cd0254e8",
   "metadata": {},
   "outputs": [],
   "source": [
    "def zagraj():\n",
    "    \"\"\"Gra z człowiekem.\"\"\"\n",
    "    imię_od_gracza = input('Podaj imię>').upper()\n",
    "    if imię_od_gracza not in dokończenia:\n",
    "        print(f'Nie ma takiego imienia: {imię_od_gracza}. Wygrałem :-)')\n",
    "        return\n",
    "    while True:\n",
    "        imię_od_komputera = wybierz_dokończenie(imię_od_gracza)\n",
    "        if imię_od_komputera is None:\n",
    "            print(f'Nie umiem dokończyć imienia {imię_od_gracza}. Gratuluję Ci wygranej :-)')\n",
    "            return\n",
    "        print(imię_od_komputera)\n",
    "        imię_od_gracza = input('Podaj imię>').upper()\n",
    "        if imię_od_gracza not in dokończenia:\n",
    "            print(f'Nie ma takiego imienia: {imię_od_gracza}. Wygrałem :-)')\n",
    "            return\n",
    "        if not jest_dokończeniem(imię_od_komputera, imię_od_gracza):\n",
    "            print(f'Imię {imię_od_gracza} nie jest dokończeniem imienia {imię_od_komputera}. Wygrałem :-)')\n",
    "            return"
   ]
  },
  {
   "cell_type": "code",
   "execution_count": null,
   "id": "36954525-15b2-435e-b385-58f7a9bbed04",
   "metadata": {},
   "outputs": [],
   "source": [
    "zagraj()"
   ]
  },
  {
   "cell_type": "markdown",
   "id": "ef708a1b-8990-4426-b6d7-50b529fc314d",
   "metadata": {},
   "source": [
    "**Zadanie 12**. Skopiuj z zadania 10 funkcję `wybierz_dokończenie(imię: str) -> str | None`.\n",
    "Zmień tę funkcję tak, aby komputer nie wybierał dokończenia losowo, tylko sprytnie.\n",
    "\n",
    "Jeśli `imię` nie ma dokończenia, niech ta funkcja zwróci `None`.\n",
    "\n",
    "Jeśli `imię` ma dokończenia, niech ta funkcja utworzy listę tych dokończeń łańcucha `imię`, które same nie mają dokończeń. Skorzystaj z listy składanej.\n",
    "\n",
    "Jeśli powstała lista nie jest pusta, niech ta funkcja wybierze z niej losowy element i go zwróci. W ten sposób, jeśli możliwe jest takie zagranie, które uniemożliwi ruch człowiekowi, komputer wykona to zagranie.\n",
    "\n",
    "Jeśli powstała lista jest pusta, niech ta funkcja zwróci losowe dokończenie, tak jak jej poprzednia wersja."
   ]
  },
  {
   "cell_type": "code",
   "execution_count": null,
   "id": "cf7c983f-c670-49ee-a926-b9cf8454a327",
   "metadata": {},
   "outputs": [],
   "source": [
    "def wybierz_dokończenie(imię: str) -> str | None:\n",
    "    \"\"\"Zwraca dokończenie łańcucha `imię` lub `None`.\"\"\""
   ]
  },
  {
   "cell_type": "code",
   "execution_count": null,
   "id": "1db49cfd-9b02-41e7-ad88-85857314359d",
   "metadata": {},
   "outputs": [],
   "source": [
    "assert wybierz_dokończenie('PIOTR') == 'TRUDZIA'\n",
    "assert wybierz_dokończenie('SZYMON') in {'MONIA', 'MONISIA', 'ONDRASZEK'}\n",
    "assert wybierz_dokończenie('OLIVIA') is None"
   ]
  },
  {
   "cell_type": "markdown",
   "id": "2acf7b21-5e4d-4e1f-a36a-9ca89cfec897",
   "metadata": {},
   "source": [
    "Zagraj z komputerem:"
   ]
  },
  {
   "cell_type": "code",
   "execution_count": null,
   "id": "c70896fe-51e7-4747-bba6-17e7688cb276",
   "metadata": {},
   "outputs": [],
   "source": [
    "zagraj()"
   ]
  },
  {
   "cell_type": "markdown",
   "id": "6d05074b-b376-4783-b95d-9d67b0d2cbc3",
   "metadata": {},
   "source": [
    "**Nie zapomnij zapisać tego pliku zanim zamkniesz kartę przeglądarki :-)**"
   ]
  }
 ],
 "metadata": {
  "kernelspec": {
   "display_name": "Python 3 (ipykernel)",
   "language": "python",
   "name": "python3"
  },
  "language_info": {
   "codemirror_mode": {
    "name": "ipython",
    "version": 3
   },
   "file_extension": ".py",
   "mimetype": "text/x-python",
   "name": "python",
   "nbconvert_exporter": "python",
   "pygments_lexer": "ipython3",
   "version": "3.14.0"
  }
 },
 "nbformat": 4,
 "nbformat_minor": 5
}
